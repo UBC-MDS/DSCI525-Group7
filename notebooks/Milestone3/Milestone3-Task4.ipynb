{
 "cells": [
  {
   "cell_type": "markdown",
   "id": "5b30161d-e3f1-45a1-9661-ea1af6b63e16",
   "metadata": {},
   "source": [
    "# Task 4 (Guided Exercise)\n",
    "\n",
    "Link to github repo for this task: https://github.com/UBC-MDS/DSCI525-Group7/blob/main/notebooks/Milestone3/Milestone3-Task4.ipynb"
   ]
  },
  {
   "cell_type": "markdown",
   "id": "827bb91b-2c93-4cc1-8ad3-c2ca683d6c04",
   "metadata": {},
   "source": [
    "This notebook is part of Milestone 3, task 3 and is a guided exercise. I have put guidelines and helpful links (as comments) along with this notebook to take you through this.\n",
    "\n",
    "In this exercise you will be using Spark's MLlib. The idea is to tune some hyperparameters of a Random Forest to find an optimum model. Once we know the optimum settings, we'll train a Random Forest in sklearn (task 4)and save it with joblib (task 5) (so that we can use it next week to deploy).\n",
    "\n",
    "Here consider MLlib as another python package that you are using, like the scikit-learn. You will be seeing many scikit-learn similar classes and methods available in MLlib for various ML related tasks, you might also notice that some of them are not yet implimented in MLlib. What you write using pyspark package will be using the spark engine to run your code, and hence all the benefits of distributed computing what we discussed in class.\n",
    "\n",
    "NOTE: Here whenever you use spark makes sure that you refer to the right documentation based on the version what you will be using. [Here](https://spark.apache.org/docs/) you can select the version of the spark and go to the correct documentation. In our case we are using spark 3.1.2, and here is the link to spark documetation that you can refer to,\n",
    "- [MLlib Documentation](https://spark.apache.org/docs/3.1.2/ml-guide.html)\n",
    "- [MLlib API Reference](https://spark.apache.org/docs/3.1.2/api/python/reference/pyspark.ml.html)\n",
    "\n",
    "You may notice that there are RDD-based API and DataFrame-based (Main Guide) API available in the documentation. You want to focus on DataFrame based API as no one these days use RDD based API. We will discuss the difference in class.\n",
    "\n",
    "Before you start this notebook make sure that you are using EMR jupyterHub and the kernal that you selected is PySpark."
   ]
  },
  {
   "cell_type": "markdown",
   "id": "dad07893-1b2b-4892-bde8-24bb24b2b6ed",
   "metadata": {},
   "source": [
    "## Import necessary libraries\n"
   ]
  },
  {
   "cell_type": "code",
   "execution_count": 1,
   "id": "1a2a1240-60c9-4a71-94c1-acb7db3d96b9",
   "metadata": {
    "execution": {
     "iopub.execute_input": "2022-04-15T10:25:12.911492Z",
     "iopub.status.busy": "2022-04-15T10:25:12.911270Z",
     "iopub.status.idle": "2022-04-15T10:25:48.391693Z",
     "shell.execute_reply": "2022-04-15T10:25:48.390928Z",
     "shell.execute_reply.started": "2022-04-15T10:25:12.911466Z"
    },
    "tags": []
   },
   "outputs": [
    {
     "data": {
      "application/vnd.jupyter.widget-view+json": {
       "model_id": "ea073a83a64a4f80ba0906a2ec7de535",
       "version_major": 2,
       "version_minor": 0
      },
      "text/plain": [
       "VBox()"
      ]
     },
     "metadata": {},
     "output_type": "display_data"
    },
    {
     "name": "stdout",
     "output_type": "stream",
     "text": [
      "Starting Spark application\n"
     ]
    },
    {
     "data": {
      "text/html": [
       "<table>\n",
       "<tr><th>ID</th><th>YARN Application ID</th><th>Kind</th><th>State</th><th>Spark UI</th><th>Driver log</th><th>Current session?</th></tr><tr><td>5</td><td>application_1650015868622_0006</td><td>pyspark</td><td>idle</td><td><a target=\"_blank\" href=\"http://ip-172-31-57-67.us-west-2.compute.internal:20888/proxy/application_1650015868622_0006/\" class=\"emr-proxy-link\" emr-resource=\"j-3NOAS05CVA8Q\n",
       "\" application-id=\"application_1650015868622_0006\">Link</a></td><td><a target=\"_blank\" href=\"http://ip-172-31-57-67.us-west-2.compute.internal:8042/node/containerlogs/container_1650015868622_0006_01_000001/livy\" >Link</a></td><td>✔</td></tr></table>"
      ],
      "text/plain": [
       "<IPython.core.display.HTML object>"
      ]
     },
     "metadata": {},
     "output_type": "display_data"
    },
    {
     "data": {
      "application/vnd.jupyter.widget-view+json": {
       "model_id": "",
       "version_major": 2,
       "version_minor": 0
      },
      "text/plain": [
       "FloatProgress(value=0.0, bar_style='info', description='Progress:', layout=Layout(height='25px', width='50%'),…"
      ]
     },
     "metadata": {},
     "output_type": "display_data"
    },
    {
     "name": "stdout",
     "output_type": "stream",
     "text": [
      "SparkSession available as 'spark'.\n"
     ]
    },
    {
     "data": {
      "application/vnd.jupyter.widget-view+json": {
       "model_id": "",
       "version_major": 2,
       "version_minor": 0
      },
      "text/plain": [
       "FloatProgress(value=0.0, bar_style='info', description='Progress:', layout=Layout(height='25px', width='50%'),…"
      ]
     },
     "metadata": {},
     "output_type": "display_data"
    }
   ],
   "source": [
    "from pyspark.ml import Pipeline\n",
    "from pyspark.context import SparkContext\n",
    "from pyspark.sql.session import SparkSession\n",
    "from pyspark.ml.feature import VectorAssembler, UnivariateFeatureSelector\n",
    "from pyspark.ml.evaluation import RegressionEvaluator\n",
    "from pyspark.ml.regression import RandomForestRegressor as sparkRFR\n",
    "from pyspark.ml.tuning import CrossValidator, ParamGridBuilder\n",
    "import pandas as pd"
   ]
  },
  {
   "cell_type": "markdown",
   "id": "8cff9677-09da-4e34-bbab-5702674eb64f",
   "metadata": {},
   "source": [
    "## Read the data"
   ]
  },
  {
   "cell_type": "markdown",
   "id": "9d79d66f-40fd-48d0-9ed6-e295bd710d31",
   "metadata": {},
   "source": [
    "To start with; read 100 data points for development purpose. Once your code is ready then try on the whole dataset."
   ]
  },
  {
   "cell_type": "code",
   "execution_count": 2,
   "id": "6b2852b0-2ebf-4343-abc6-1faa383b299a",
   "metadata": {
    "execution": {
     "iopub.execute_input": "2022-04-15T10:26:18.241057Z",
     "iopub.status.busy": "2022-04-15T10:26:18.240793Z",
     "iopub.status.idle": "2022-04-15T10:26:20.534613Z",
     "shell.execute_reply": "2022-04-15T10:26:20.534021Z",
     "shell.execute_reply.started": "2022-04-15T10:26:18.241029Z"
    },
    "tags": []
   },
   "outputs": [
    {
     "data": {
      "application/vnd.jupyter.widget-view+json": {
       "model_id": "3c7c3c711b9049a08425317aa79dbf5d",
       "version_major": 2,
       "version_minor": 0
      },
      "text/plain": [
       "VBox()"
      ]
     },
     "metadata": {},
     "output_type": "display_data"
    },
    {
     "data": {
      "application/vnd.jupyter.widget-view+json": {
       "model_id": "",
       "version_major": 2,
       "version_minor": 0
      },
      "text/plain": [
       "FloatProgress(value=0.0, bar_style='info', description='Progress:', layout=Layout(height='25px', width='50%'),…"
      ]
     },
     "metadata": {},
     "output_type": "display_data"
    }
   ],
   "source": [
    "## Depending on the permissions that you provided to your bucket you might need to provide your aws credentials\n",
    "## to read from the bucket, if so provide with your credentials and pass as storage_options=aws_credentials\n",
    "# aws_credentials = {\"key\": \"\",\"secret\": \"\",\"token\":\"\"}\n",
    "## here 100 data points for testing the code\n",
    "\n",
    "aws_credentials ={\"key\": \"\",\n",
    "                  \"secret\": \"\",\n",
    "                  \"token\":\"\"}\n",
    "\n",
    "df = pd.read_csv(\"s3://mds-s3-group7/output/ml_data_SYD.csv\",\n",
    "                 storage_options=aws_credentials,\n",
    "                 index_col=0, parse_dates=True).iloc[:100].dropna()\n",
    "df = df.rename(columns={\"observed\": \"Observed\"})\n",
    "\n",
    "feature_cols = list(df.drop(columns=\"Observed\").columns)"
   ]
  },
  {
   "cell_type": "markdown",
   "id": "5893e2af-8618-48dd-bf0d-213eaff5039b",
   "metadata": {},
   "source": [
    "## Preparing dataset for ML"
   ]
  },
  {
   "cell_type": "code",
   "execution_count": 3,
   "id": "1732165b-fe10-4a1e-932d-fd145cfe822e",
   "metadata": {
    "execution": {
     "iopub.execute_input": "2022-04-15T10:26:22.763860Z",
     "iopub.status.busy": "2022-04-15T10:26:22.763623Z",
     "iopub.status.idle": "2022-04-15T10:26:25.067425Z",
     "shell.execute_reply": "2022-04-15T10:26:25.066848Z",
     "shell.execute_reply.started": "2022-04-15T10:26:22.763836Z"
    },
    "tags": []
   },
   "outputs": [
    {
     "data": {
      "application/vnd.jupyter.widget-view+json": {
       "model_id": "ac9c9a5ec54448fa93cbda0d73020e00",
       "version_major": 2,
       "version_minor": 0
      },
      "text/plain": [
       "VBox()"
      ]
     },
     "metadata": {},
     "output_type": "display_data"
    },
    {
     "data": {
      "application/vnd.jupyter.widget-view+json": {
       "model_id": "",
       "version_major": 2,
       "version_minor": 0
      },
      "text/plain": [
       "FloatProgress(value=0.0, bar_style='info', description='Progress:', layout=Layout(height='25px', width='50%'),…"
      ]
     },
     "metadata": {},
     "output_type": "display_data"
    }
   ],
   "source": [
    "# Load dataframe and coerce features into a single column called \"Features\"\n",
    "# This is a requirement of MLlib\n",
    "# Here we are converting your pandas dataframe to a spark dataframe, \n",
    "# Here \"spark\" is a spark session I will discuss this in our Wed class. \n",
    "# It is automatically created for you in this notebook.\n",
    "# read more  here https://blog.knoldus.com/spark-createdataframe-vs-todf/\n",
    "\n",
    "training = spark.createDataFrame(df)\n",
    "assembler = VectorAssembler(inputCols=feature_cols, outputCol=\"Features\")\n",
    "training = assembler.transform(training).select(\"Features\", \"Observed\")"
   ]
  },
  {
   "cell_type": "markdown",
   "id": "9559e836-fbf1-462f-a99e-9577fb2987b7",
   "metadata": {},
   "source": [
    "## Find best hyperparameter settings"
   ]
  },
  {
   "cell_type": "markdown",
   "id": "b0425b71-f8d9-465b-8988-64a4b1d32afa",
   "metadata": {},
   "source": [
    "Official Documentation of MLlib, Random forest regression [here](http://spark.apache.org/docs/3.0.1/ml-classification-regression.html#random-forest-regression).\n",
    "\n",
    "Here we will be mainly using following classes and methods;\n",
    "\n",
    "- [RandomForestRegressor](https://spark.apache.org/docs/latest/api/python/reference/api/pyspark.ml.regression.RandomForestRegressor.html)\n",
    "- [ParamGridBuilder](https://spark.apache.org/docs/latest/api/python/reference/api/pyspark.ml.tuning.ParamGridBuilder.html)\n",
    "    - addGrid\n",
    "    - build\n",
    "- [CrossValidator](https://spark.apache.org/docs/latest/api/python/reference/api/pyspark.ml.tuning.CrossValidator.html)\n",
    "    - fit\n",
    "\n",
    "Use these parameters for coming up with ideal parameters, you could try more parameters, but make sure you have enough power to do it. But you are required to try only following parameters. This will take around 15 min on entire dataset....\n",
    "\n",
    "    - Use numTrees as [10, 50,100]\n",
    "    - maxDepth as [5, 10]\n",
    "    - bootstrap as [False, True]\n",
    "    - In the CrossValidator use evaluator to be RegressionEvaluator(labelCol=\"Observed\")\n",
    "    \n",
    "***Additional reference:*** You can refer to [here](https://www.sparkitecture.io/machine-learning/regression/random-forest) and [here](https://www.silect.is/blog/random-forest-models-in-spark-ml/).\n",
    "Some additional reading [here](https://projector-video-pdf-converter.datacamp.com/14989/chapter4.pdf)"
   ]
  },
  {
   "cell_type": "code",
   "execution_count": 4,
   "id": "fad5b6f7-dba7-47da-96cd-e77ebcb955c0",
   "metadata": {
    "execution": {
     "iopub.execute_input": "2022-04-15T10:26:27.340555Z",
     "iopub.status.busy": "2022-04-15T10:26:27.340337Z",
     "iopub.status.idle": "2022-04-15T10:26:36.670802Z",
     "shell.execute_reply": "2022-04-15T10:26:36.670251Z",
     "shell.execute_reply.started": "2022-04-15T10:26:27.340531Z"
    },
    "tags": []
   },
   "outputs": [
    {
     "data": {
      "application/vnd.jupyter.widget-view+json": {
       "model_id": "496d1bcf6b5f4a22a7f18b22d132d2da",
       "version_major": 2,
       "version_minor": 0
      },
      "text/plain": [
       "VBox()"
      ]
     },
     "metadata": {},
     "output_type": "display_data"
    },
    {
     "data": {
      "application/vnd.jupyter.widget-view+json": {
       "model_id": "",
       "version_major": 2,
       "version_minor": 0
      },
      "text/plain": [
       "FloatProgress(value=0.0, bar_style='info', description='Progress:', layout=Layout(height='25px', width='50%'),…"
      ]
     },
     "metadata": {},
     "output_type": "display_data"
    }
   ],
   "source": [
    "##Once you finish testing the model on 100 data points, then load entire dataset and run , this could take ~15 min.\n",
    "## write code here.\n",
    "\n",
    "from pyspark.ml.regression import RandomForestRegressor\n",
    "from pyspark.ml.tuning import ParamGridBuilder, CrossValidator\n",
    "from pyspark.ml.evaluation import RegressionEvaluator\n",
    "\n",
    "aws_credentials ={\"key\": \"\",\n",
    "                  \"secret\": \"\",\n",
    "                  \"token\":\"\"}\n",
    "\n",
    "df = pd.read_csv(\"s3://mds-s3-group7/output/ml_data_SYD.csv\", \n",
    "                 storage_options = aws_credentials,\n",
    "                 index_col=0, parse_dates=True).dropna()\n",
    "df = df.rename(columns={\"observed\": \"Observed\"})\n",
    "\n",
    "\n",
    "feature_cols = list(df.columns)\n",
    "\n",
    "training = spark.createDataFrame(df)\n",
    "assembler = VectorAssembler(inputCols=feature_cols, outputCol=\"Features\")\n",
    "training = assembler.transform(training).select(\"Features\", \"Observed\")"
   ]
  },
  {
   "cell_type": "code",
   "execution_count": 5,
   "id": "b44bb313-031d-4b81-92b3-c5445f83b1c9",
   "metadata": {
    "execution": {
     "iopub.execute_input": "2022-04-15T10:26:36.672261Z",
     "iopub.status.busy": "2022-04-15T10:26:36.672014Z",
     "iopub.status.idle": "2022-04-15T10:26:36.933676Z",
     "shell.execute_reply": "2022-04-15T10:26:36.933133Z",
     "shell.execute_reply.started": "2022-04-15T10:26:36.672225Z"
    },
    "tags": []
   },
   "outputs": [
    {
     "data": {
      "application/vnd.jupyter.widget-view+json": {
       "model_id": "e1ae308f11f344c3b6753a2c6d7b640a",
       "version_major": 2,
       "version_minor": 0
      },
      "text/plain": [
       "VBox()"
      ]
     },
     "metadata": {},
     "output_type": "display_data"
    },
    {
     "data": {
      "application/vnd.jupyter.widget-view+json": {
       "model_id": "",
       "version_major": 2,
       "version_minor": 0
      },
      "text/plain": [
       "FloatProgress(value=0.0, bar_style='info', description='Progress:', layout=Layout(height='25px', width='50%'),…"
      ]
     },
     "metadata": {},
     "output_type": "display_data"
    }
   ],
   "source": [
    "rf = RandomForestRegressor(labelCol=\"Observed\", featuresCol=\"Features\")\n",
    "\n",
    "trees = [10, 50, 100]\n",
    "depths = [5, 10]\n",
    "boots = [False, True]\n",
    "\n",
    "params = (ParamGridBuilder()\n",
    "          .addGrid(rf.numTrees, trees)\n",
    "          .addGrid(rf.maxDepth, depths)\n",
    "          .addGrid(rf.bootstrap, boots).build())\n",
    "\n",
    "rfevaluator = RegressionEvaluator(predictionCol=\"prediction\", \n",
    "                                  labelCol=\"Observed\")\n",
    "\n",
    "rfcv = CrossValidator(estimator = rf,\n",
    "                      estimatorParamMaps = params,\n",
    "                      evaluator = rfevaluator,\n",
    "                      numFolds = 5)"
   ]
  },
  {
   "cell_type": "code",
   "execution_count": 6,
   "id": "187b2615-d600-4b16-ad0c-c5ff227b486e",
   "metadata": {
    "execution": {
     "iopub.execute_input": "2022-04-15T10:26:42.267189Z",
     "iopub.status.busy": "2022-04-15T10:26:42.266928Z",
     "iopub.status.idle": "2022-04-15T10:38:13.784700Z",
     "shell.execute_reply": "2022-04-15T10:38:13.783533Z",
     "shell.execute_reply.started": "2022-04-15T10:26:42.267162Z"
    },
    "tags": []
   },
   "outputs": [
    {
     "data": {
      "application/vnd.jupyter.widget-view+json": {
       "model_id": "1c6adee397144ea4bde9c131c6d80663",
       "version_major": 2,
       "version_minor": 0
      },
      "text/plain": [
       "VBox()"
      ]
     },
     "metadata": {},
     "output_type": "display_data"
    },
    {
     "data": {
      "application/vnd.jupyter.widget-view+json": {
       "model_id": "",
       "version_major": 2,
       "version_minor": 0
      },
      "text/plain": [
       "FloatProgress(value=0.0, bar_style='info', description='Progress:', layout=Layout(height='25px', width='50%'),…"
      ]
     },
     "metadata": {},
     "output_type": "display_data"
    }
   ],
   "source": [
    "cvModel = rfcv.fit(training)"
   ]
  },
  {
   "cell_type": "code",
   "execution_count": 7,
   "id": "5d2e26d6-529e-496b-82fa-86ccd5fb0864",
   "metadata": {
    "execution": {
     "iopub.execute_input": "2022-04-15T10:39:42.956837Z",
     "iopub.status.busy": "2022-04-15T10:39:42.956614Z",
     "iopub.status.idle": "2022-04-15T10:39:43.026093Z",
     "shell.execute_reply": "2022-04-15T10:39:43.025521Z",
     "shell.execute_reply.started": "2022-04-15T10:39:42.956815Z"
    },
    "tags": []
   },
   "outputs": [
    {
     "data": {
      "application/vnd.jupyter.widget-view+json": {
       "model_id": "bb535b92240a41f5ac572b1243651cd3",
       "version_major": 2,
       "version_minor": 0
      },
      "text/plain": [
       "VBox()"
      ]
     },
     "metadata": {},
     "output_type": "display_data"
    },
    {
     "data": {
      "application/vnd.jupyter.widget-view+json": {
       "model_id": "",
       "version_major": 2,
       "version_minor": 0
      },
      "text/plain": [
       "FloatProgress(value=0.0, bar_style='info', description='Progress:', layout=Layout(height='25px', width='50%'),…"
      ]
     },
     "metadata": {},
     "output_type": "display_data"
    },
    {
     "name": "stdout",
     "output_type": "stream",
     "text": [
      "\n",
      "Best model\n",
      "==========\n",
      "\n",
      "CV Score: 3.97\n",
      "numTrees: 100\n",
      "numTrees: 10"
     ]
    }
   ],
   "source": [
    "# Print run info\n",
    "print(\"\\nBest model\")\n",
    "print(\"==========\")\n",
    "print(f\"\\nCV Score: {min(cvModel.avgMetrics):.2f}\")\n",
    "print(f\"numTrees: {cvModel.bestModel.getNumTrees}\")\n",
    "print(f\"numTrees: {cvModel.bestModel.getMaxDepth()}\")"
   ]
  },
  {
   "cell_type": "code",
   "execution_count": null,
   "id": "162f9cae-ff46-4c8e-8df1-e0d949c47b83",
   "metadata": {},
   "outputs": [],
   "source": []
  }
 ],
 "metadata": {
  "kernelspec": {
   "display_name": "PySpark",
   "language": "",
   "name": "pysparkkernel"
  },
  "language_info": {
   "codemirror_mode": {
    "name": "python",
    "version": 3
   },
   "mimetype": "text/x-python",
   "name": "pyspark",
   "pygments_lexer": "python3"
  }
 },
 "nbformat": 4,
 "nbformat_minor": 5
}
