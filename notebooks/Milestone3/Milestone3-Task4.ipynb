{
 "cells": [
  {
   "cell_type": "markdown",
   "id": "5b30161d-e3f1-45a1-9661-ea1af6b63e16",
   "metadata": {},
   "source": [
    "# Task 4 (Guided Exercise)\n",
    "\n",
    "Link to github repo for this task: https://github.com/UBC-MDS/DSCI525-Group7/blob/main/notebooks/Milestone3/Milestone3-Task4.ipynb"
   ]
  },
  {
   "cell_type": "markdown",
   "id": "827bb91b-2c93-4cc1-8ad3-c2ca683d6c04",
   "metadata": {},
   "source": [
    "This notebook is part of Milestone 3, task 3 and is a guided exercise. I have put guidelines and helpful links (as comments) along with this notebook to take you through this.\n",
    "\n",
    "In this exercise you will be using Spark's MLlib. The idea is to tune some hyperparameters of a Random Forest to find an optimum model. Once we know the optimum settings, we'll train a Random Forest in sklearn (task 4)and save it with joblib (task 5) (so that we can use it next week to deploy).\n",
    "\n",
    "Here consider MLlib as another python package that you are using, like the scikit-learn. You will be seeing many scikit-learn similar classes and methods available in MLlib for various ML related tasks, you might also notice that some of them are not yet implimented in MLlib. What you write using pyspark package will be using the spark engine to run your code, and hence all the benefits of distributed computing what we discussed in class.\n",
    "\n",
    "NOTE: Here whenever you use spark makes sure that you refer to the right documentation based on the version what you will be using. [Here](https://spark.apache.org/docs/) you can select the version of the spark and go to the correct documentation. In our case we are using spark 3.1.2, and here is the link to spark documetation that you can refer to,\n",
    "- [MLlib Documentation](https://spark.apache.org/docs/3.1.2/ml-guide.html)\n",
    "- [MLlib API Reference](https://spark.apache.org/docs/3.1.2/api/python/reference/pyspark.ml.html)\n",
    "\n",
    "You may notice that there are RDD-based API and DataFrame-based (Main Guide) API available in the documentation. You want to focus on DataFrame based API as no one these days use RDD based API. We will discuss the difference in class.\n",
    "\n",
    "Before you start this notebook make sure that you are using EMR jupyterHub and the kernal that you selected is PySpark."
   ]
  },
  {
   "cell_type": "markdown",
   "id": "dad07893-1b2b-4892-bde8-24bb24b2b6ed",
   "metadata": {},
   "source": [
    "## Import necessary libraries\n"
   ]
  },
  {
   "cell_type": "code",
   "execution_count": 1,
   "id": "1a2a1240-60c9-4a71-94c1-acb7db3d96b9",
   "metadata": {
    "execution": {
     "iopub.execute_input": "2022-04-15T17:46:27.026222Z",
     "iopub.status.busy": "2022-04-15T17:46:27.025893Z",
     "iopub.status.idle": "2022-04-15T17:47:00.552986Z",
     "shell.execute_reply": "2022-04-15T17:47:00.552255Z",
     "shell.execute_reply.started": "2022-04-15T17:46:27.026181Z"
    },
    "tags": []
   },
   "outputs": [
    {
     "data": {
      "application/vnd.jupyter.widget-view+json": {
       "model_id": "e0cabe0693054af7aaf0bd4377d73ead",
       "version_major": 2,
       "version_minor": 0
      },
      "text/plain": [
       "VBox()"
      ]
     },
     "metadata": {},
     "output_type": "display_data"
    },
    {
     "name": "stdout",
     "output_type": "stream",
     "text": [
      "Starting Spark application\n"
     ]
    },
    {
     "data": {
      "text/html": [
       "<table>\n",
       "<tr><th>ID</th><th>YARN Application ID</th><th>Kind</th><th>State</th><th>Spark UI</th><th>Driver log</th><th>Current session?</th></tr><tr><td>1</td><td>application_1650043905968_0002</td><td>pyspark</td><td>idle</td><td><a target=\"_blank\" href=\"http://ip-172-31-49-77.us-west-2.compute.internal:20888/proxy/application_1650043905968_0002/\" class=\"emr-proxy-link\" emr-resource=\"j-25ULWI72E94GC\n",
       "\" application-id=\"application_1650043905968_0002\">Link</a></td><td><a target=\"_blank\" href=\"http://ip-172-31-49-77.us-west-2.compute.internal:8042/node/containerlogs/container_1650043905968_0002_01_000001/livy\" >Link</a></td><td>✔</td></tr></table>"
      ],
      "text/plain": [
       "<IPython.core.display.HTML object>"
      ]
     },
     "metadata": {},
     "output_type": "display_data"
    },
    {
     "data": {
      "application/vnd.jupyter.widget-view+json": {
       "model_id": "",
       "version_major": 2,
       "version_minor": 0
      },
      "text/plain": [
       "FloatProgress(value=0.0, bar_style='info', description='Progress:', layout=Layout(height='25px', width='50%'),…"
      ]
     },
     "metadata": {},
     "output_type": "display_data"
    },
    {
     "name": "stdout",
     "output_type": "stream",
     "text": [
      "SparkSession available as 'spark'.\n"
     ]
    },
    {
     "data": {
      "application/vnd.jupyter.widget-view+json": {
       "model_id": "",
       "version_major": 2,
       "version_minor": 0
      },
      "text/plain": [
       "FloatProgress(value=0.0, bar_style='info', description='Progress:', layout=Layout(height='25px', width='50%'),…"
      ]
     },
     "metadata": {},
     "output_type": "display_data"
    }
   ],
   "source": [
    "from pyspark.ml import Pipeline\n",
    "from pyspark.context import SparkContext\n",
    "from pyspark.sql.session import SparkSession\n",
    "from pyspark.ml.feature import VectorAssembler, UnivariateFeatureSelector\n",
    "from pyspark.ml.evaluation import RegressionEvaluator\n",
    "from pyspark.ml.regression import RandomForestRegressor as sparkRFR\n",
    "from pyspark.ml.tuning import CrossValidator, ParamGridBuilder\n",
    "import pandas as pd"
   ]
  },
  {
   "cell_type": "markdown",
   "id": "8cff9677-09da-4e34-bbab-5702674eb64f",
   "metadata": {},
   "source": [
    "## Read the data"
   ]
  },
  {
   "cell_type": "markdown",
   "id": "9d79d66f-40fd-48d0-9ed6-e295bd710d31",
   "metadata": {},
   "source": [
    "To start with; read 100 data points for development purpose. Once your code is ready then try on the whole dataset."
   ]
  },
  {
   "cell_type": "code",
   "execution_count": 2,
   "id": "6b2852b0-2ebf-4343-abc6-1faa383b299a",
   "metadata": {
    "execution": {
     "iopub.execute_input": "2022-04-15T17:48:44.709106Z",
     "iopub.status.busy": "2022-04-15T17:48:44.708880Z",
     "iopub.status.idle": "2022-04-15T17:48:47.015641Z",
     "shell.execute_reply": "2022-04-15T17:48:47.014850Z",
     "shell.execute_reply.started": "2022-04-15T17:48:44.709082Z"
    },
    "tags": []
   },
   "outputs": [
    {
     "data": {
      "application/vnd.jupyter.widget-view+json": {
       "model_id": "0e63f523d5814d4fb8cbee2d235180ec",
       "version_major": 2,
       "version_minor": 0
      },
      "text/plain": [
       "VBox()"
      ]
     },
     "metadata": {},
     "output_type": "display_data"
    },
    {
     "data": {
      "application/vnd.jupyter.widget-view+json": {
       "model_id": "",
       "version_major": 2,
       "version_minor": 0
      },
      "text/plain": [
       "FloatProgress(value=0.0, bar_style='info', description='Progress:', layout=Layout(height='25px', width='50%'),…"
      ]
     },
     "metadata": {},
     "output_type": "display_data"
    }
   ],
   "source": [
    "## Depending on the permissions that you provided to your bucket you might need to provide your aws credentials\n",
    "## to read from the bucket, if so provide with your credentials and pass as storage_options=aws_credentials\n",
    "# aws_credentials = {\"key\": \"\",\"secret\": \"\",\"token\":\"\"}\n",
    "## here 100 data points for testing the code\n",
    "\n",
    "aws_credentials ={\"key\": \"\",\n",
    "                  \"secret\": \"\",\n",
    "                  \"token\":\"\"}\n",
    "\n",
    "df = pd.read_csv(\"s3://mds-s3-group7/output/ml_data_SYD.csv\",\n",
    "                 storage_options=aws_credentials,\n",
    "                 index_col=0, parse_dates=True).iloc[:100].dropna()\n",
    "df = df.rename(columns={\"observed\": \"Observed\"})\n",
    "\n",
    "feature_cols = list(df.drop(columns=\"Observed\").columns)"
   ]
  },
  {
   "cell_type": "markdown",
   "id": "5893e2af-8618-48dd-bf0d-213eaff5039b",
   "metadata": {},
   "source": [
    "## Preparing dataset for ML"
   ]
  },
  {
   "cell_type": "code",
   "execution_count": 3,
   "id": "1732165b-fe10-4a1e-932d-fd145cfe822e",
   "metadata": {
    "execution": {
     "iopub.execute_input": "2022-04-15T17:48:49.654277Z",
     "iopub.status.busy": "2022-04-15T17:48:49.653967Z",
     "iopub.status.idle": "2022-04-15T17:48:51.967155Z",
     "shell.execute_reply": "2022-04-15T17:48:51.966446Z",
     "shell.execute_reply.started": "2022-04-15T17:48:49.654239Z"
    },
    "tags": []
   },
   "outputs": [
    {
     "data": {
      "application/vnd.jupyter.widget-view+json": {
       "model_id": "53b12ac70d11497792d917fbc5fd92c0",
       "version_major": 2,
       "version_minor": 0
      },
      "text/plain": [
       "VBox()"
      ]
     },
     "metadata": {},
     "output_type": "display_data"
    },
    {
     "data": {
      "application/vnd.jupyter.widget-view+json": {
       "model_id": "",
       "version_major": 2,
       "version_minor": 0
      },
      "text/plain": [
       "FloatProgress(value=0.0, bar_style='info', description='Progress:', layout=Layout(height='25px', width='50%'),…"
      ]
     },
     "metadata": {},
     "output_type": "display_data"
    }
   ],
   "source": [
    "# Load dataframe and coerce features into a single column called \"Features\"\n",
    "# This is a requirement of MLlib\n",
    "# Here we are converting your pandas dataframe to a spark dataframe, \n",
    "# Here \"spark\" is a spark session I will discuss this in our Wed class. \n",
    "# It is automatically created for you in this notebook.\n",
    "# read more  here https://blog.knoldus.com/spark-createdataframe-vs-todf/\n",
    "\n",
    "training = spark.createDataFrame(df)\n",
    "assembler = VectorAssembler(inputCols=feature_cols, outputCol=\"Features\")\n",
    "training = assembler.transform(training).select(\"Features\", \"Observed\")"
   ]
  },
  {
   "cell_type": "markdown",
   "id": "9559e836-fbf1-462f-a99e-9577fb2987b7",
   "metadata": {},
   "source": [
    "## Find best hyperparameter settings"
   ]
  },
  {
   "cell_type": "markdown",
   "id": "b0425b71-f8d9-465b-8988-64a4b1d32afa",
   "metadata": {},
   "source": [
    "Official Documentation of MLlib, Random forest regression [here](http://spark.apache.org/docs/3.0.1/ml-classification-regression.html#random-forest-regression).\n",
    "\n",
    "Here we will be mainly using following classes and methods;\n",
    "\n",
    "- [RandomForestRegressor](https://spark.apache.org/docs/latest/api/python/reference/api/pyspark.ml.regression.RandomForestRegressor.html)\n",
    "- [ParamGridBuilder](https://spark.apache.org/docs/latest/api/python/reference/api/pyspark.ml.tuning.ParamGridBuilder.html)\n",
    "    - addGrid\n",
    "    - build\n",
    "- [CrossValidator](https://spark.apache.org/docs/latest/api/python/reference/api/pyspark.ml.tuning.CrossValidator.html)\n",
    "    - fit\n",
    "\n",
    "Use these parameters for coming up with ideal parameters, you could try more parameters, but make sure you have enough power to do it. But you are required to try only following parameters. This will take around 15 min on entire dataset....\n",
    "\n",
    "    - Use numTrees as [10, 50,100]\n",
    "    - maxDepth as [5, 10]\n",
    "    - bootstrap as [False, True]\n",
    "    - In the CrossValidator use evaluator to be RegressionEvaluator(labelCol=\"Observed\")\n",
    "    \n",
    "***Additional reference:*** You can refer to [here](https://www.sparkitecture.io/machine-learning/regression/random-forest) and [here](https://www.silect.is/blog/random-forest-models-in-spark-ml/).\n",
    "Some additional reading [here](https://projector-video-pdf-converter.datacamp.com/14989/chapter4.pdf)"
   ]
  },
  {
   "cell_type": "code",
   "execution_count": 4,
   "id": "fad5b6f7-dba7-47da-96cd-e77ebcb955c0",
   "metadata": {
    "execution": {
     "iopub.execute_input": "2022-04-15T17:48:51.968918Z",
     "iopub.status.busy": "2022-04-15T17:48:51.968666Z",
     "iopub.status.idle": "2022-04-15T17:49:03.335354Z",
     "shell.execute_reply": "2022-04-15T17:49:03.334671Z",
     "shell.execute_reply.started": "2022-04-15T17:48:51.968885Z"
    },
    "tags": []
   },
   "outputs": [
    {
     "data": {
      "application/vnd.jupyter.widget-view+json": {
       "model_id": "5deb35a8ea114b20a67674f003b60c29",
       "version_major": 2,
       "version_minor": 0
      },
      "text/plain": [
       "VBox()"
      ]
     },
     "metadata": {},
     "output_type": "display_data"
    },
    {
     "data": {
      "application/vnd.jupyter.widget-view+json": {
       "model_id": "",
       "version_major": 2,
       "version_minor": 0
      },
      "text/plain": [
       "FloatProgress(value=0.0, bar_style='info', description='Progress:', layout=Layout(height='25px', width='50%'),…"
      ]
     },
     "metadata": {},
     "output_type": "display_data"
    }
   ],
   "source": [
    "##Once you finish testing the model on 100 data points, then load entire dataset and run , this could take ~15 min.\n",
    "## write code here.\n",
    "\n",
    "from pyspark.ml.regression import RandomForestRegressor\n",
    "from pyspark.ml.tuning import ParamGridBuilder, CrossValidator\n",
    "from pyspark.ml.evaluation import RegressionEvaluator\n",
    "\n",
    "aws_credentials ={\"key\": \"\",\n",
    "                  \"secret\": \"\",\n",
    "                  \"token\":\"\"}\n",
    "\n",
    "df = pd.read_csv(\"s3://mds-s3-group7/output/ml_data_SYD.csv\", \n",
    "                 storage_options = aws_credentials,\n",
    "                 index_col=0, parse_dates=True).dropna()\n",
    "df = df.rename(columns={\"observed\": \"Observed\"})\n",
    "\n",
    "\n",
    "feature_cols = list(df.columns)\n",
    "\n",
    "training = spark.createDataFrame(df)\n",
    "assembler = VectorAssembler(inputCols=feature_cols, outputCol=\"Features\")\n",
    "training = assembler.transform(training).select(\"Features\", \"Observed\")"
   ]
  },
  {
   "cell_type": "code",
   "execution_count": 5,
   "id": "b44bb313-031d-4b81-92b3-c5445f83b1c9",
   "metadata": {
    "execution": {
     "iopub.execute_input": "2022-04-15T17:49:03.336651Z",
     "iopub.status.busy": "2022-04-15T17:49:03.336478Z",
     "iopub.status.idle": "2022-04-15T17:49:03.612272Z",
     "shell.execute_reply": "2022-04-15T17:49:03.611683Z",
     "shell.execute_reply.started": "2022-04-15T17:49:03.336629Z"
    },
    "tags": []
   },
   "outputs": [
    {
     "data": {
      "application/vnd.jupyter.widget-view+json": {
       "model_id": "89843fa6820246d9a38a1881e03a2830",
       "version_major": 2,
       "version_minor": 0
      },
      "text/plain": [
       "VBox()"
      ]
     },
     "metadata": {},
     "output_type": "display_data"
    },
    {
     "data": {
      "application/vnd.jupyter.widget-view+json": {
       "model_id": "",
       "version_major": 2,
       "version_minor": 0
      },
      "text/plain": [
       "FloatProgress(value=0.0, bar_style='info', description='Progress:', layout=Layout(height='25px', width='50%'),…"
      ]
     },
     "metadata": {},
     "output_type": "display_data"
    }
   ],
   "source": [
    "rf = RandomForestRegressor(labelCol=\"Observed\", featuresCol=\"Features\")\n",
    "\n",
    "trees = [10, 50, 100]\n",
    "depths = [5, 10]\n",
    "boots = [False, True]\n",
    "\n",
    "params = (ParamGridBuilder()\n",
    "          .addGrid(rf.numTrees, trees)\n",
    "          .addGrid(rf.maxDepth, depths)\n",
    "          .addGrid(rf.bootstrap, boots).build())\n",
    "\n",
    "rfevaluator = RegressionEvaluator(predictionCol=\"prediction\", \n",
    "                                  labelCol=\"Observed\")\n",
    "\n",
    "rfcv = CrossValidator(estimator = rf,\n",
    "                      estimatorParamMaps = params,\n",
    "                      evaluator = rfevaluator,\n",
    "                      numFolds = 5)"
   ]
  },
  {
   "cell_type": "code",
   "execution_count": 6,
   "id": "187b2615-d600-4b16-ad0c-c5ff227b486e",
   "metadata": {
    "execution": {
     "iopub.execute_input": "2022-04-15T17:49:03.613817Z",
     "iopub.status.busy": "2022-04-15T17:49:03.613436Z",
     "iopub.status.idle": "2022-04-15T17:59:29.161862Z",
     "shell.execute_reply": "2022-04-15T17:59:29.160978Z",
     "shell.execute_reply.started": "2022-04-15T17:49:03.613782Z"
    },
    "tags": []
   },
   "outputs": [
    {
     "data": {
      "application/vnd.jupyter.widget-view+json": {
       "model_id": "aafb895e6f0343499ab8ea56090c4d8e",
       "version_major": 2,
       "version_minor": 0
      },
      "text/plain": [
       "VBox()"
      ]
     },
     "metadata": {},
     "output_type": "display_data"
    },
    {
     "data": {
      "application/vnd.jupyter.widget-view+json": {
       "model_id": "",
       "version_major": 2,
       "version_minor": 0
      },
      "text/plain": [
       "FloatProgress(value=0.0, bar_style='info', description='Progress:', layout=Layout(height='25px', width='50%'),…"
      ]
     },
     "metadata": {},
     "output_type": "display_data"
    }
   ],
   "source": [
    "cvModel = rfcv.fit(training)"
   ]
  },
  {
   "cell_type": "code",
   "execution_count": 9,
   "id": "5d2e26d6-529e-496b-82fa-86ccd5fb0864",
   "metadata": {
    "execution": {
     "iopub.execute_input": "2022-04-15T18:01:44.347510Z",
     "iopub.status.busy": "2022-04-15T18:01:44.347277Z",
     "iopub.status.idle": "2022-04-15T18:01:44.408709Z",
     "shell.execute_reply": "2022-04-15T18:01:44.407807Z",
     "shell.execute_reply.started": "2022-04-15T18:01:44.347480Z"
    },
    "tags": []
   },
   "outputs": [
    {
     "data": {
      "application/vnd.jupyter.widget-view+json": {
       "model_id": "726de5365739459098f69339af33dca1",
       "version_major": 2,
       "version_minor": 0
      },
      "text/plain": [
       "VBox()"
      ]
     },
     "metadata": {},
     "output_type": "display_data"
    },
    {
     "data": {
      "application/vnd.jupyter.widget-view+json": {
       "model_id": "",
       "version_major": 2,
       "version_minor": 0
      },
      "text/plain": [
       "FloatProgress(value=0.0, bar_style='info', description='Progress:', layout=Layout(height='25px', width='50%'),…"
      ]
     },
     "metadata": {},
     "output_type": "display_data"
    },
    {
     "name": "stdout",
     "output_type": "stream",
     "text": [
      "\n",
      "Best model\n",
      "==========\n",
      "\n",
      "CV Score: 3.99\n",
      "numTrees: 100\n",
      "bootstrap: True\n",
      "maxDepth: 10"
     ]
    }
   ],
   "source": [
    "# Print run info\n",
    "print(\"\\nBest model\")\n",
    "print(\"==========\")\n",
    "print(f\"\\nCV Score: {min(cvModel.avgMetrics):.2f}\")\n",
    "print(f\"numTrees: {cvModel.bestModel.getNumTrees}\")\n",
    "print(f\"bootstrap: {cvModel.bestModel.getBootstrap()}\")\n",
    "print(f\"maxDepth: {cvModel.bestModel.getMaxDepth()}\")"
   ]
  },
  {
   "cell_type": "code",
   "execution_count": null,
   "id": "4ba9d80a-c714-474b-9878-76fef6cf41db",
   "metadata": {},
   "outputs": [],
   "source": []
  }
 ],
 "metadata": {
  "kernelspec": {
   "display_name": "PySpark",
   "language": "",
   "name": "pysparkkernel"
  },
  "language_info": {
   "codemirror_mode": {
    "name": "python",
    "version": 3
   },
   "mimetype": "text/x-python",
   "name": "pyspark",
   "pygments_lexer": "python3"
  }
 },
 "nbformat": 4,
 "nbformat_minor": 5
}
